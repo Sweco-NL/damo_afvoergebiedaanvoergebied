{
 "cells": [
  {
   "cell_type": "code",
   "execution_count": null,
   "metadata": {},
   "outputs": [],
   "source": [
    "import logging\n",
    "from pathlib import Path\n",
    "import pandas as pd\n",
    "from dotenv import dotenv_values\n",
    "from generator_drainage_units import run_generator_network_lumping\n",
    "\n",
    "logging.basicConfig(level=logging.DEBUG)"
   ]
  },
  {
   "cell_type": "code",
   "execution_count": 2,
   "metadata": {},
   "outputs": [],
   "source": [
    "pd.set_option(\"future.no_silent_downcasting\", True)"
   ]
  },
  {
   "cell_type": "code",
   "execution_count": 3,
   "metadata": {},
   "outputs": [],
   "source": [
    "%load_ext autoreload\n",
    "%autoreload 2"
   ]
  },
  {
   "cell_type": "code",
   "execution_count": 4,
   "metadata": {},
   "outputs": [],
   "source": [
    "config = dotenv_values(\"..\\\\.env\")\n",
    "base_dir = Path(config[\"BASE_DIR\"])\n",
    "# base_dir = Path(config[\"BASE_DIR_AA_EN_MAAS\"])\n",
    "\n",
    "# case_name = \"vallei_en_veluwe\"\n",
    "case_name = \"Leuvenumse_beek\"\n",
    "# case_name = \"test\"\n",
    "# case_name = \"test_zero\"\n",
    "# case_name = \"test_check\"\n",
    "# case_name = \"aa_en_maas\"\n",
    "case_path = Path(base_dir, case_name)\n",
    "\n",
    "direction = \"upstream\"\n",
    "dir_basisdata = \"0_basisdata\"\n",
    "dir_results = \"1_resultaat\""
   ]
  },
  {
   "cell_type": "code",
   "execution_count": null,
   "metadata": {},
   "outputs": [],
   "source": [
    "network = run_generator_network_lumping(\n",
    "    path=case_path,\n",
    "    dir_basisdata=dir_basisdata,\n",
    "    dir_results=dir_results,\n",
    "    direction=direction,\n",
    "    include_areas_based_on_length=True,\n",
    "    detect_split_points=True,\n",
    "    smooth_area=False,\n",
    "    read_results=True,\n",
    "    write_results=True,\n",
    "    html_include_units=False,\n",
    "    water_lines=[\"hydroobjecten\"],\n",
    ")"
   ]
  },
  {
   "cell_type": "code",
   "execution_count": null,
   "metadata": {},
   "outputs": [],
   "source": [
    "network.generate_folium_map(\n",
    "    base_map=\"Light Mode\",\n",
    "    width_edges=10.0,\n",
    "    opacity_edges=0.5,\n",
    "    include_areas=True,\n",
    "    html_include_units=False,\n",
    ")\n",
    "network.folium_map"
   ]
  },
  {
   "cell_type": "code",
   "execution_count": null,
   "metadata": {},
   "outputs": [],
   "source": []
  },
  {
   "cell_type": "code",
   "execution_count": null,
   "metadata": {},
   "outputs": [],
   "source": []
  },
  {
   "cell_type": "code",
   "execution_count": null,
   "metadata": {},
   "outputs": [],
   "source": []
  }
 ],
 "metadata": {
  "kernelspec": {
   "display_name": "default",
   "language": "python",
   "name": "python3"
  },
  "language_info": {
   "codemirror_mode": {
    "name": "ipython",
    "version": 3
   },
   "file_extension": ".py",
   "mimetype": "text/x-python",
   "name": "python",
   "nbconvert_exporter": "python",
   "pygments_lexer": "ipython3",
   "version": "3.12.9"
  }
 },
 "nbformat": 4,
 "nbformat_minor": 2
}
