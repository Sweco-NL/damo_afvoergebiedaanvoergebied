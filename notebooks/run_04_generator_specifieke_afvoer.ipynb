{
 "cells": [
  {
   "cell_type": "code",
   "execution_count": null,
   "id": "d60cebe2",
   "metadata": {},
   "outputs": [],
   "source": [
    "import logging\n",
    "from pathlib import Path\n",
    "from warnings import simplefilter\n",
    "import pandas as pd\n",
    "from dotenv import dotenv_values\n",
    "\n",
    "from damo_afvoergebiedaanvoergebied import run_generator_specifieke_afvoer\n",
    "\n",
    "simplefilter(action=\"ignore\", category=pd.errors.PerformanceWarning)\n",
    "logging.basicConfig(level=logging.INFO)"
   ]
  },
  {
   "cell_type": "code",
   "execution_count": null,
   "id": "494fb8cc",
   "metadata": {},
   "outputs": [],
   "source": [
    "%load_ext autoreload\n",
    "%autoreload 2"
   ]
  },
  {
   "cell_type": "code",
   "execution_count": null,
   "id": "b5e25e41",
   "metadata": {},
   "outputs": [],
   "source": [
    "config = dotenv_values(\"..\\\\.env\")\n",
    "base_dir = config[\"BASE_DIR\"]\n",
    "dir_basisdata = \"0_basisdata\"\n",
    "dir_results = \"1_resultaat\"\n",
    "\n",
    "# Define case and base_dir\n",
    "waterschap = 'Waterschap Vallei en Veluwe'\n",
    "case_name = \"vallei_en_veluwe\"\n",
    "# case_name = \"Leuvenumse_beek\"\n",
    "\n",
    "specific_discharge_file_name = \"specifieke_afvoer.nc\""
   ]
  },
  {
   "cell_type": "code",
   "execution_count": null,
   "id": "e4a2dac9",
   "metadata": {},
   "outputs": [],
   "source": [
    "case_path = Path(base_dir, case_name)\n",
    "\n",
    "discharge = run_generator_specifieke_afvoer(\n",
    "    path=case_path,\n",
    "    dir_basisdata=dir_basisdata,\n",
    "    dir_results=dir_results,\n",
    "    waterschap=waterschap,\n",
    "    water_lines=[\"hydroobjecten\", \"overige_watergangen\"],\n",
    "    read_results=False,\n",
    "    write_results=True, \n",
    "    level_discharge_units=0,\n",
    "    use_specific_discharge=0, # 0: use raster 'specific_discharge_file_name', > 0: homogenic [l/s]\n",
    "    specific_discharge_file_name=specific_discharge_file_name,\n",
    "    create_html_map=False,\n",
    "    open_html=False,\n",
    ")"
   ]
  },
  {
   "cell_type": "code",
   "execution_count": null,
   "id": "dc67a5c9",
   "metadata": {},
   "outputs": [],
   "source": [
    "discharge.edges[\"total_specific_discharge\"].describe()"
   ]
  },
  {
   "cell_type": "code",
   "execution_count": null,
   "id": "77244d8f",
   "metadata": {},
   "outputs": [],
   "source": [
    "discharge.generate_folium_map(\n",
    "    save_html=True,\n",
    "    open_html=True,\n",
    "    zoom_start=10,\n",
    "    specific_discharge_cmap=\"RdYlGn_r\",\n",
    ");"
   ]
  },
  {
   "cell_type": "code",
   "execution_count": null,
   "id": "393aa523",
   "metadata": {},
   "outputs": [],
   "source": []
  }
 ],
 "metadata": {
  "kernelspec": {
   "display_name": "default",
   "language": "python",
   "name": "python3"
  },
  "language_info": {
   "codemirror_mode": {
    "name": "ipython",
    "version": 3
   },
   "file_extension": ".py",
   "mimetype": "text/x-python",
   "name": "python",
   "nbconvert_exporter": "python",
   "pygments_lexer": "ipython3",
   "version": "3.12.9"
  }
 },
 "nbformat": 4,
 "nbformat_minor": 5
}
