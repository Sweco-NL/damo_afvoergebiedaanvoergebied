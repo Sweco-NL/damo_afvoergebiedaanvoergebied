{
 "cells": [
  {
   "cell_type": "code",
   "execution_count": null,
   "metadata": {},
   "outputs": [],
   "source": [
    "import logging\n",
    "from pathlib import Path\n",
    "import matplotlib.pyplot as plt\n",
    "import numpy as np\n",
    "import pandas as pd\n",
    "from dotenv import dotenv_values\n",
    "from generator_drainage_units import run_generator_drainage_units\n",
    "\n",
    "logging.basicConfig(level=logging.INFO)\n",
    "pd.set_option(\"future.no_silent_downcasting\", True)"
   ]
  },
  {
   "cell_type": "code",
   "execution_count": null,
   "metadata": {},
   "outputs": [],
   "source": [
    "%load_ext autoreload\n",
    "%autoreload 2"
   ]
  },
  {
   "cell_type": "code",
   "execution_count": null,
   "metadata": {},
   "outputs": [],
   "source": [
    "# Define case and base_dir\n",
    "config = dotenv_values(\"..\\\\.env\")\n",
    "base_dir = Path(config[\"BASE_DIR\"])\n",
    "dir_basisdata = \"0_basisdata\"\n",
    "dir_results = \"1_resultaat\"\n",
    "\n",
    "# Define case and base_dir\n",
    "waterschap = 'Waterschap Vallei en Veluwe'\n",
    "case_name = \"vallei_en_veluwe\"\n",
    "# case_name = \"Leuvenumse_beek\"\n",
    "\n",
    "# GHG-filename or topographic data to use for drainage units\n",
    "ghg_file_name = \"GHG_2000-2010_L1.NC\"\n",
    "resolution = 10.0"
   ]
  },
  {
   "cell_type": "code",
   "execution_count": null,
   "metadata": {},
   "outputs": [],
   "source": [
    "case_path = Path(base_dir, case_name)\n",
    "max_length = 25000\n",
    "\n",
    "gdu = run_generator_drainage_units(\n",
    "    path=case_path,\n",
    "    dir_basisdata=dir_basisdata,\n",
    "    dir_results=dir_results,\n",
    "    waterschap=waterschap,\n",
    "    ghg_file_name=ghg_file_name,\n",
    "    read_results=False,\n",
    "    write_results=True,\n",
    "    preprocess=False,\n",
    "    process=False,\n",
    "    postprocess=False,\n",
    "    resolution=resolution,\n",
    "    depth_waterways=0.2,\n",
    "    buffer_waterways=resolution*2.0,\n",
    "    smooth_distance=50.0,\n",
    "    iterations=int(max_length/resolution),\n",
    "    iteration_group=100,\n",
    "    flow_method=\"d8\",\n",
    ")"
   ]
  },
  {
   "cell_type": "code",
   "execution_count": null,
   "metadata": {},
   "outputs": [],
   "source": [
    "gdu.outflow_nodes_overige_watergangen"
   ]
  },
  {
   "cell_type": "code",
   "execution_count": null,
   "metadata": {},
   "outputs": [],
   "source": [
    "gdu.generate_folium_map(\n",
    "    order_labels=True,\n",
    "    drainage_units_cmap=\"PRGn\",\n",
    "    drainage_units_opacity=1.0,\n",
    "    zmin=3.0,\n",
    "    zmax=30.0,\n",
    "    dx=0.0,\n",
    "    dy=-13.0,\n",
    "    open_html=True\n",
    ")"
   ]
  },
  {
   "cell_type": "code",
   "execution_count": null,
   "metadata": {},
   "outputs": [],
   "source": []
  },
  {
   "cell_type": "code",
   "execution_count": null,
   "metadata": {},
   "outputs": [],
   "source": []
  }
 ],
 "metadata": {
  "kernelspec": {
   "display_name": "default",
   "language": "python",
   "name": "python3"
  },
  "language_info": {
   "codemirror_mode": {
    "name": "ipython",
    "version": 3
   },
   "file_extension": ".py",
   "mimetype": "text/x-python",
   "name": "python",
   "nbconvert_exporter": "python",
   "pygments_lexer": "ipython3",
   "version": "3.12.9"
  }
 },
 "nbformat": 4,
 "nbformat_minor": 2
}
