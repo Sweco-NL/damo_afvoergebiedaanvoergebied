{
 "cells": [
  {
   "cell_type": "code",
   "execution_count": null,
   "metadata": {},
   "outputs": [],
   "source": [
    "import logging\n",
    "from pathlib import Path\n",
    "from warnings import simplefilter\n",
    "import pandas as pd\n",
    "from dotenv import dotenv_values\n",
    "from generator_drainage_units import run_generator_order_levels\n",
    "\n",
    "simplefilter(action=\"ignore\", category=pd.errors.PerformanceWarning)\n",
    "logging.basicConfig(level=logging.INFO)"
   ]
  },
  {
   "cell_type": "code",
   "execution_count": null,
   "metadata": {},
   "outputs": [],
   "source": [
    "%load_ext autoreload\n",
    "%autoreload 2"
   ]
  },
  {
   "cell_type": "code",
   "execution_count": null,
   "metadata": {},
   "outputs": [],
   "source": [
    "config = dotenv_values(\"..\\\\.env\")\n",
    "base_dir = config[\"BASE_DIR\"]\n",
    "# base_dir = config[\"BASE_DIR_PDRIVE\"]\n",
    "dir_basisdata = \"0_basisdata\"\n",
    "dir_results = \"1_resultaat\"\n",
    "\n",
    "waterschap = 'Waterschap Vallei en Veluwe'\n",
    "\n",
    "# Define case and base_dir\n",
    "# case_name = \"vallei_en_veluwe\"\n",
    "case_name = \"Leuvenumse_beek\"\n",
    "# case_name = \"Leuvenumse_beek_klein\"\n",
    "# case_name = \"Noord\"\n",
    "# case_name = \"Noordtest\"\n",
    "# case_name = \"Vechtstromen\""
   ]
  },
  {
   "cell_type": "code",
   "execution_count": null,
   "metadata": {},
   "outputs": [],
   "source": [
    "case_path = Path(base_dir, case_name)\n",
    "\n",
    "order = run_generator_order_levels(\n",
    "    path=case_path,\n",
    "    dir_basisdata=dir_basisdata,\n",
    "    dir_results=dir_results,\n",
    "    waterschap=waterschap,\n",
    "    generate_new_outflow_nodes=True,\n",
    "    generate_order_no=True,\n",
    "    generate_order_code=True,\n",
    "    generate_order_code_sub_waterlines=True,\n",
    "    order_for_each_edge=False,\n",
    "    water_lines=[\"hydroobjecten\"],\n",
    "    read_results=False,\n",
    "    write_results=True,\n",
    "    create_html_map=False,\n",
    "    open_html=False,\n",
    ")"
   ]
  },
  {
   "cell_type": "code",
   "execution_count": null,
   "metadata": {},
   "outputs": [],
   "source": [
    "order.generate_folium_map(\n",
    "    drop_duplicate_codes=True,\n",
    "    order_labels=True,\n",
    "    save_html=True,\n",
    "    open_html=True,\n",
    ")"
   ]
  },
  {
   "cell_type": "code",
   "execution_count": null,
   "metadata": {},
   "outputs": [],
   "source": []
  },
  {
   "cell_type": "code",
   "execution_count": null,
   "metadata": {},
   "outputs": [],
   "source": []
  },
  {
   "cell_type": "code",
   "execution_count": null,
   "metadata": {},
   "outputs": [],
   "source": []
  }
 ],
 "metadata": {
  "kernelspec": {
   "display_name": "default",
   "language": "python",
   "name": "python3"
  },
  "language_info": {
   "codemirror_mode": {
    "name": "ipython",
    "version": 3
   },
   "file_extension": ".py",
   "mimetype": "text/x-python",
   "name": "python",
   "nbconvert_exporter": "python",
   "pygments_lexer": "ipython3",
   "version": "3.12.9"
  }
 },
 "nbformat": 4,
 "nbformat_minor": 2
}
